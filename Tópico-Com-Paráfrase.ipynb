{
 "cells": [
  {
   "cell_type": "code",
   "execution_count": 1,
   "metadata": {},
   "outputs": [],
   "source": [
    "import numpy as np\n",
    "import pandas as pd\n",
    "import csv\n",
    "from sklearn.metrics import confusion_matrix\n",
    "from sklearn.pipeline import Pipeline\n",
    "from sklearn.feature_extraction.text import TfidfVectorizer\n",
    "from sklearn.naive_bayes import MultinomialNB\n",
    "from sklearn.svm import LinearSVC\n",
    "from sklearn import metrics\n",
    "import seaborn as sns\n",
    "import matplotlib.pyplot as plt\n",
    "from sklearn.metrics import confusion_matrix\n",
    "from sklearn.metrics import classification_report"
   ]
  },
  {
   "cell_type": "code",
   "execution_count": 2,
   "metadata": {},
   "outputs": [
    {
     "data": {
      "text/html": [
       "<div>\n",
       "<style scoped>\n",
       "    .dataframe tbody tr th:only-of-type {\n",
       "        vertical-align: middle;\n",
       "    }\n",
       "\n",
       "    .dataframe tbody tr th {\n",
       "        vertical-align: top;\n",
       "    }\n",
       "\n",
       "    .dataframe thead th {\n",
       "        text-align: right;\n",
       "    }\n",
       "</style>\n",
       "<table border=\"1\" class=\"dataframe\">\n",
       "  <thead>\n",
       "    <tr style=\"text-align: right;\">\n",
       "      <th></th>\n",
       "      <th>Id</th>\n",
       "      <th>Enunciado</th>\n",
       "      <th>Tópico</th>\n",
       "      <th>Contexto</th>\n",
       "    </tr>\n",
       "  </thead>\n",
       "  <tbody>\n",
       "    <tr>\n",
       "      <th>0</th>\n",
       "      <td>994</td>\n",
       "      <td>Meu primeiro programa\\nEscreva um programa que...</td>\n",
       "      <td>Ambientação</td>\n",
       "      <td>Outros</td>\n",
       "    </tr>\n",
       "    <tr>\n",
       "      <th>1</th>\n",
       "      <td>996</td>\n",
       "      <td>Impressão de caracteres na tela\\nEscreva um pr...</td>\n",
       "      <td>Ambientação</td>\n",
       "      <td>Outros</td>\n",
       "    </tr>\n",
       "    <tr>\n",
       "      <th>2</th>\n",
       "      <td>999</td>\n",
       "      <td>Impressão de caracteres na tela (Bart Simpson)...</td>\n",
       "      <td>Ambientação</td>\n",
       "      <td>Outros</td>\n",
       "    </tr>\n",
       "    <tr>\n",
       "      <th>3</th>\n",
       "      <td>1000</td>\n",
       "      <td>Operadores aritméticos\\nQual o valor de X para...</td>\n",
       "      <td>Ambientação</td>\n",
       "      <td>Matemático</td>\n",
       "    </tr>\n",
       "    <tr>\n",
       "      <th>4</th>\n",
       "      <td>578</td>\n",
       "      <td>Operadores aritméticos \\nQual o valor de Y par...</td>\n",
       "      <td>Ambientação</td>\n",
       "      <td>Matemático</td>\n",
       "    </tr>\n",
       "  </tbody>\n",
       "</table>\n",
       "</div>"
      ],
      "text/plain": [
       "     Id                                          Enunciado       Tópico  \\\n",
       "0   994  Meu primeiro programa\\nEscreva um programa que...  Ambientação   \n",
       "1   996  Impressão de caracteres na tela\\nEscreva um pr...  Ambientação   \n",
       "2   999  Impressão de caracteres na tela (Bart Simpson)...  Ambientação   \n",
       "3  1000  Operadores aritméticos\\nQual o valor de X para...  Ambientação   \n",
       "4   578  Operadores aritméticos \\nQual o valor de Y par...  Ambientação   \n",
       "\n",
       "     Contexto  \n",
       "0      Outros  \n",
       "1      Outros  \n",
       "2      Outros  \n",
       "3  Matemático  \n",
       "4  Matemático  "
      ]
     },
     "execution_count": 2,
     "metadata": {},
     "output_type": "execute_result"
    }
   ],
   "source": [
    "import spacy\n",
    "nlp = spacy.load('pt')\n",
    "\n",
    "\n",
    "df = pd.read_csv('../dados_categorizados_completo_novo.csv')\n",
    "df.head()"
   ]
  },
  {
   "cell_type": "code",
   "execution_count": 3,
   "metadata": {},
   "outputs": [
    {
     "data": {
      "text/plain": [
       "(1045, 4)"
      ]
     },
     "execution_count": 3,
     "metadata": {},
     "output_type": "execute_result"
    }
   ],
   "source": [
    "df.shape"
   ]
  },
  {
   "cell_type": "code",
   "execution_count": 4,
   "metadata": {},
   "outputs": [
    {
     "data": {
      "text/plain": [
       "Estrutura condicional encadeada        161\n",
       "Vetor                                  160\n",
       "Variáveis e Estrutura Sequencial       157\n",
       "Estrutura condicional composta         136\n",
       "Matrizes                               134\n",
       "Estrutura de repetição por contagem    117\n",
       "Estrutura de repetição por condição    114\n",
       "Strings                                 47\n",
       "Ambientação                             19\n",
       "Name: Tópico, dtype: int64"
      ]
     },
     "execution_count": 4,
     "metadata": {},
     "output_type": "execute_result"
    }
   ],
   "source": [
    "df.Tópico.value_counts()"
   ]
  },
  {
   "cell_type": "code",
   "execution_count": 5,
   "metadata": {},
   "outputs": [],
   "source": [
    "X = df['Enunciado']\n",
    "y = df['Tópico']"
   ]
  },
  {
   "cell_type": "markdown",
   "metadata": {},
   "source": [
    "## Criando a base de validação"
   ]
  },
  {
   "cell_type": "code",
   "execution_count": 6,
   "metadata": {},
   "outputs": [],
   "source": [
    "from sklearn.model_selection import StratifiedKFold\n",
    "vetor_X_train=[]\n",
    "vetor_y_train=[]\n",
    "vetor_X_test=[]\n",
    "vetor_y_test=[]\n",
    "split = StratifiedKFold(n_splits=10, random_state=None, shuffle=False)\n",
    "for train_index, val_index in split.split(X, y):\n",
    "    vetor_X_train+=[X.iloc[train_index]]\n",
    "    vetor_X_test+=[X.iloc[val_index]]\n",
    "    vetor_y_train+=[y[train_index]]\n",
    "    vetor_y_test+=[y[val_index]]"
   ]
  },
  {
   "cell_type": "code",
   "execution_count": 7,
   "metadata": {},
   "outputs": [],
   "source": [
    "def get_new_sentences(da):\n",
    "    strings=[]\n",
    "    for elemento in da['Enunciado']:\n",
    "        if(len(da)+len(strings)<maximum):\n",
    "            contador=0\n",
    "            lista=elemento.split()\n",
    "            while(contador<len(lista)):\n",
    "                if(lista[contador] in synonyms_lexicon):\n",
    "                    lista[contador]=synonyms_lexicon[lista[contador]][0]\n",
    "                contador+=1\n",
    "            strings+=[' '.join(lista)]\n",
    "        else:\n",
    "            break\n",
    "    \n",
    "    new_sentences = pd.Series(strings)\n",
    "    return new_sentences\n",
    "\n",
    "def get_synonyms_lexicon(path):\n",
    "    synonyms_lexicon = {}\n",
    "    text_entries = [l.strip() for l in open(path).readlines()]\n",
    "    for e in text_entries:\n",
    "        e = e.split(' ')\n",
    "        k = e[0]\n",
    "        v = e[1:len(e)]\n",
    "        synonyms_lexicon[k] = v\n",
    "    return synonyms_lexicon\n",
    "\n",
    "synonyms_lexicon = get_synonyms_lexicon('./arq3.txt')\n",
    "\n",
    "class LemmaTokenizer(object):\n",
    "    def __call__(self, text):\n",
    "        doc=nlp(text)\n",
    "        tokens=[]\n",
    "        for token in doc:\n",
    "            if(token.text.isalpha() and len(token.text)>=2):\n",
    "                tokens+=[token]\n",
    "        return [t.lemma_ for t in tokens if t not in nlp.Defaults.stop_words]\n",
    "pipeline= LinearSVC(\n",
    "    penalty='l2',\n",
    "    loss='squared_hinge',\n",
    "    dual=True,\n",
    "    tol=0.001,\n",
    "    C=10.0,\n",
    "    multi_class='ovr',\n",
    "    fit_intercept=True,\n",
    "    intercept_scaling=10,\n",
    "    class_weight=None,\n",
    "    verbose=0,\n",
    "    random_state=None,\n",
    "    max_iter=10000,\n",
    ")"
   ]
  },
  {
   "cell_type": "code",
   "execution_count": 8,
   "metadata": {},
   "outputs": [
    {
     "name": "stderr",
     "output_type": "stream",
     "text": [
      "/home/samuel/anaconda3/lib/python3.7/site-packages/sklearn/feature_extraction/text.py:385: UserWarning: Your stop_words may be inconsistent with your preprocessing. Tokenizing the stop words generated tokens ['acercar', 'algum', 'antar', 'apoiar', 'baixar', 'caminhar', 'ceder', 'cincar', 'comer', 'conhecer', 'custar', 'dever', 'devir', 'direito', 'entrar', 'estevar', 'estivar', 'falto', 'formar', 'grupar', 'irar', 'ligar', 'mear', 'nado', 'nenhum', 'nó', 'o', 'obrigar', 'oitavar', 'orar', 'outro', 'parecer', 'parir', 'pelar', 'pontar', 'pôr', 'quantum', 'quartar', 'querer', 'quietar', 'quintar', 'segundar', 'seriar', 'sobrar', 'suar', 'tardar', 'terceirar', 'umar', 'vezar', 'vir', 'vário'] not in stop_words.\n",
      "  'stop_words.' % sorted(inconsistent))\n",
      "/home/samuel/anaconda3/lib/python3.7/site-packages/sklearn/svm/_base.py:947: ConvergenceWarning: Liblinear failed to converge, increase the number of iterations.\n",
      "  \"the number of iterations.\", ConvergenceWarning)\n"
     ]
    }
   ],
   "source": [
    "contador=0\n",
    "predictions=[]\n",
    "while(contador<len(vetor_X_train)):\n",
    "    X_train=vetor_X_train[contador]\n",
    "    y_train=vetor_y_train[contador]\n",
    "    X_test=vetor_X_test[contador]\n",
    "    y_test=vetor_y_test[contador]\n",
    "    test = np.c_[X_train[:np.newaxis], y_train[:np.newaxis]]\n",
    "    df = pd.DataFrame(test, columns=['Enunciado', 'Tópico'])\n",
    "    \n",
    "   # maximum = classe com maior quantidade de problemas(classe majoritaria) = mathematics\n",
    "\n",
    "    maximum = df.Tópico.value_counts().max()\n",
    "\n",
    "    # Separação de cada problemas em suas respectivas classes\n",
    "    g = df.groupby('Tópico')\n",
    "\n",
    "    ece = g.get_group('Estrutura condicional encadeada')\n",
    "    vetor = g.get_group('Vetor')\n",
    "    ves = g.get_group('Variáveis e Estrutura Sequencial')\n",
    "    ecc = g.get_group('Estrutura condicional composta')\n",
    "    matrizes = g.get_group('Matrizes')\n",
    "    ercont = g.get_group('Estrutura de repetição por contagem')\n",
    "    ercond = g.get_group('Estrutura de repetição por condição')\n",
    "    strings = g.get_group('Strings')\n",
    "    ambientacao = g.get_group('Ambientação')\n",
    "    \n",
    "    #criação de novas sentenças\n",
    "\n",
    "    new_ece = get_new_sentences(ece)\n",
    "    new_vetor = get_new_sentences(vetor)\n",
    "    new_ves = get_new_sentences(ves)\n",
    "    new_ecc = get_new_sentences(ecc)\n",
    "    new_matrizes = get_new_sentences(matrizes)\n",
    "    new_ercond = get_new_sentences(ercond)\n",
    "    new_ercont = get_new_sentences(ercont)\n",
    "    new_strings = get_new_sentences(strings)\n",
    "    new_ambientacao = get_new_sentences(ambientacao)\n",
    "\n",
    "    \n",
    "    #criando dataframe de cada sentença criada\n",
    "\n",
    "    new_ece = pd.DataFrame(new_ece,columns=['Enunciado'])\n",
    "    new_ece['Tópico'] = 'Estrutura condicional encadeada'\n",
    "\n",
    "    new_vetor = pd.DataFrame(new_vetor,columns=['Enunciado'])\n",
    "    new_vetor['Tópico'] = 'Vetor'\n",
    "\n",
    "    new_ves = pd.DataFrame(new_ves,columns=['Enunciado'])\n",
    "    new_ves['Tópico'] = 'Variáveis e Estrutura Sequencial'\n",
    "\n",
    "    new_ecc = pd.DataFrame(new_ecc,columns=['Enunciado'])\n",
    "    new_ecc['Tópico'] = 'Estrutura condicional composta'\n",
    "\n",
    "    new_matrizes = pd.DataFrame(new_matrizes,columns=['Enunciado'])\n",
    "    new_matrizes['Tópico'] = 'Matrizes'\n",
    "\n",
    "    new_ercont = pd.DataFrame(new_ercont,columns=['Enunciado'])\n",
    "    new_ercont['Tópico'] = 'Estrutura de repetição por contagem'\n",
    "\n",
    "    new_ercond = pd.DataFrame(new_ercond,columns=['Enunciado'])\n",
    "    new_ercond['Tópico'] = 'Estrutura de repetição por condição'\n",
    "\n",
    "    new_strings = pd.DataFrame(new_strings,columns=['Enunciado'])\n",
    "    new_strings['Tópico'] = 'Strings'\n",
    "\n",
    "    new_ambientacao = pd.DataFrame(new_ambientacao,columns=['Enunciado'])\n",
    "    new_ambientacao['Tópico'] = 'Ambientação'\n",
    "\n",
    "    ece_extended = pd.concat([ece, new_ece], keys = ['Enunciado', 'Tópico'])\n",
    "    vetor_extended = pd.concat([vetor, new_vetor], keys = ['Enunciado', 'Tópico'])\n",
    "    ves_extended = pd.concat([ves, new_ves], keys = ['Enunciado', 'Tópico'])\n",
    "    ecc_extended = pd.concat([ecc, new_ecc], keys = ['Enunciado', 'Tópico'])\n",
    "    matrizes_extended = pd.concat([matrizes, new_matrizes], keys = ['Enunciado', 'Tópico'])\n",
    "    ercont_extended = pd.concat([ercont, new_ercont], keys = ['Enunciado', 'Tópico'])\n",
    "    ercond_extended = pd.concat([ercond, new_ercond], keys = ['Enunciado', 'Tópico'])\n",
    "    strings_extended = pd.concat([strings, new_strings], keys = ['Enunciado', 'Tópico'])\n",
    "    ambientacao_extended = pd.concat([ambientacao, new_ambientacao], keys = ['Enunciado', 'Tópico'])\n",
    "\n",
    "    #concantenando dataframes de sentenças parafráseadas a base de dados original \n",
    "    df = pd.concat([ece,vetor_extended,ves_extended,ecc_extended,\n",
    "               matrizes_extended,ercont_extended,ercond_extended,strings_extended,ambientacao_extended])\n",
    "    \n",
    "    X_train = df['Enunciado']\n",
    "    y_train = df['Tópico']\n",
    "    \n",
    "    text_clf_lsvc2 = Pipeline([('tfidf', TfidfVectorizer(stop_words=nlp.Defaults.stop_words,\n",
    "                            tokenizer=LemmaTokenizer())),\n",
    "                     ('clf',pipeline),\n",
    "    ])\n",
    "    text_clf_lsvc2.fit(X_train, y_train)\n",
    "\n",
    "    predictions+=[text_clf_lsvc2.predict(X_test)]\n",
    "\n",
    "    contador+=1"
   ]
  },
  {
   "cell_type": "code",
   "execution_count": 9,
   "metadata": {},
   "outputs": [],
   "source": [
    "y_pred=[]\n",
    "for lista in predictions:\n",
    "    for elemento in lista:\n",
    "        y_pred+=[elemento]\n",
    "        \n",
    "y_test_sla=[]\n",
    "for lista in vetor_y_test:\n",
    "    for elemento in lista:\n",
    "        y_test_sla+=[elemento]"
   ]
  },
  {
   "cell_type": "code",
   "execution_count": 10,
   "metadata": {},
   "outputs": [
    {
     "name": "stdout",
     "output_type": "stream",
     "text": [
      "[[ 14   1   0   1   0   0   0   3   0]\n",
      " [  0  84  29   2   1   0   0  18   2]\n",
      " [  1   9 131   0   8   3   0   7   2]\n",
      " [  0  17   4  71   8   3   0   8   3]\n",
      " [  0   3   1   8  88   0   3   4  10]\n",
      " [  0   1   5   0   1 123   2   1   1]\n",
      " [  0   1   0   1   2   1  40   0   2]\n",
      " [  0  26  10   4   4   2   0 108   3]\n",
      " [  0   8   3   2   5   0   1   3 138]]\n"
     ]
    }
   ],
   "source": [
    "print(metrics.confusion_matrix(y_test_sla,y_pred))"
   ]
  },
  {
   "cell_type": "code",
   "execution_count": 11,
   "metadata": {},
   "outputs": [
    {
     "name": "stdout",
     "output_type": "stream",
     "text": [
      "                                     precision    recall  f1-score   support\n",
      "\n",
      "                        Ambientação       0.93      0.74      0.82        19\n",
      "     Estrutura condicional composta       0.56      0.62      0.59       136\n",
      "    Estrutura condicional encadeada       0.72      0.81      0.76       161\n",
      "Estrutura de repetição por condição       0.80      0.62      0.70       114\n",
      "Estrutura de repetição por contagem       0.75      0.75      0.75       117\n",
      "                           Matrizes       0.93      0.92      0.92       134\n",
      "                            Strings       0.87      0.85      0.86        47\n",
      "   Variáveis e Estrutura Sequencial       0.71      0.69      0.70       157\n",
      "                              Vetor       0.86      0.86      0.86       160\n",
      "\n",
      "                           accuracy                           0.76      1045\n",
      "                          macro avg       0.79      0.76      0.77      1045\n",
      "                       weighted avg       0.77      0.76      0.76      1045\n",
      "\n"
     ]
    }
   ],
   "source": [
    "print(metrics.classification_report(y_test_sla,y_pred))"
   ]
  },
  {
   "cell_type": "code",
   "execution_count": 12,
   "metadata": {},
   "outputs": [
    {
     "name": "stdout",
     "output_type": "stream",
     "text": [
      "0.7626794258373206\n"
     ]
    }
   ],
   "source": [
    "print(metrics.accuracy_score(y_test_sla,y_pred))"
   ]
  },
  {
   "cell_type": "code",
   "execution_count": 19,
   "metadata": {},
   "outputs": [],
   "source": [
    "mat_etc = confusion_matrix(y_test_sla, y_pred)"
   ]
  },
  {
   "cell_type": "code",
   "execution_count": 20,
   "metadata": {},
   "outputs": [],
   "source": [
    "row_sums = mat_etc.sum(axis=1, keepdims=True)\n",
    "norm_conf_mx = mat_etc / row_sums"
   ]
  },
  {
   "cell_type": "code",
   "execution_count": 21,
   "metadata": {},
   "outputs": [],
   "source": [
    "labels = ['Ambientação','Estrutura condicional composta','Estrutura condicional encadeada'\n",
    "          ,'Estrutura de repetição por condição','Estrutura de repetição por contagem','Matrizes'\n",
    "          ,'Strings','Variáveis e Estrutura Sequencial','Vetor']"
   ]
  },
  {
   "cell_type": "code",
   "execution_count": 24,
   "metadata": {},
   "outputs": [
    {
     "data": {
      "image/png": "[encoded data removed]",
      "text/plain": [
       "<Figure size 432x288 with 2 Axes>"
      ]
     },
     "metadata": {
      "needs_background": "light"
     },
     "output_type": "display_data"
    }
   ],
   "source": [
    "sns.heatmap(pd.DataFrame(norm_conf_mx.round(2),\n",
    "                         columns=labels, \n",
    "                         index=labels), \n",
    "            annot=True, \n",
    "            fmt='g', \n",
    "            cmap='Blues')\n",
    "plt.xlabel('predicted value')\n",
    "plt.ylabel('true value');"
   ]
  },
  {
   "cell_type": "code",
   "execution_count": null,
   "metadata": {},
   "outputs": [],
   "source": []
  }
 ],
 "metadata": {
  "kernelspec": {
   "display_name": "Python 3",
   "language": "python",
   "name": "python3"
  },
  "language_info": {
   "codemirror_mode": {
    "name": "ipython",
    "version": 3
   },
   "file_extension": ".py",
   "mimetype": "text/x-python",
   "name": "python",
   "nbconvert_exporter": "python",
   "pygments_lexer": "ipython3",
   "version": "3.7.5"
  }
 },
 "nbformat": 4,
 "nbformat_minor": 2
}
