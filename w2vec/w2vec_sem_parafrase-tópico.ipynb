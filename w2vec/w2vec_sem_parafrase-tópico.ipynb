{
 "cells": [
  {
   "cell_type": "code",
   "execution_count": 1,
   "metadata": {},
   "outputs": [],
   "source": [
    "import numpy as np\n",
    "import pandas as pd\n",
    "from sklearn.svm import LinearSVC\n",
    "from sklearn import metrics\n",
    "import seaborn as sns\n",
    "import umap\n",
    "import matplotlib.pyplot as plt"
   ]
  },
  {
   "cell_type": "code",
   "execution_count": 2,
   "metadata": {},
   "outputs": [
    {
     "data": {
      "text/html": [
       "<div>\n",
       "<style scoped>\n",
       "    .dataframe tbody tr th:only-of-type {\n",
       "        vertical-align: middle;\n",
       "    }\n",
       "\n",
       "    .dataframe tbody tr th {\n",
       "        vertical-align: top;\n",
       "    }\n",
       "\n",
       "    .dataframe thead th {\n",
       "        text-align: right;\n",
       "    }\n",
       "</style>\n",
       "<table border=\"1\" class=\"dataframe\">\n",
       "  <thead>\n",
       "    <tr style=\"text-align: right;\">\n",
       "      <th></th>\n",
       "      <th>Id</th>\n",
       "      <th>Enunciado</th>\n",
       "      <th>Tópico</th>\n",
       "      <th>Contexto</th>\n",
       "    </tr>\n",
       "  </thead>\n",
       "  <tbody>\n",
       "    <tr>\n",
       "      <th>0</th>\n",
       "      <td>994</td>\n",
       "      <td>Meu primeiro programa\\nEscreva um programa que...</td>\n",
       "      <td>Ambientação</td>\n",
       "      <td>Outros</td>\n",
       "    </tr>\n",
       "    <tr>\n",
       "      <th>1</th>\n",
       "      <td>996</td>\n",
       "      <td>Impressão de caracteres na tela\\nEscreva um pr...</td>\n",
       "      <td>Ambientação</td>\n",
       "      <td>Outros</td>\n",
       "    </tr>\n",
       "    <tr>\n",
       "      <th>2</th>\n",
       "      <td>999</td>\n",
       "      <td>Impressão de caracteres na tela (Bart Simpson)...</td>\n",
       "      <td>Ambientação</td>\n",
       "      <td>Outros</td>\n",
       "    </tr>\n",
       "    <tr>\n",
       "      <th>3</th>\n",
       "      <td>1000</td>\n",
       "      <td>Operadores aritméticos\\nQual o valor de X para...</td>\n",
       "      <td>Ambientação</td>\n",
       "      <td>Matemático</td>\n",
       "    </tr>\n",
       "    <tr>\n",
       "      <th>4</th>\n",
       "      <td>578</td>\n",
       "      <td>Operadores aritméticos \\nQual o valor de Y par...</td>\n",
       "      <td>Ambientação</td>\n",
       "      <td>Matemático</td>\n",
       "    </tr>\n",
       "  </tbody>\n",
       "</table>\n",
       "</div>"
      ],
      "text/plain": [
       "     Id                                          Enunciado       Tópico  \\\n",
       "0   994  Meu primeiro programa\\nEscreva um programa que...  Ambientação   \n",
       "1   996  Impressão de caracteres na tela\\nEscreva um pr...  Ambientação   \n",
       "2   999  Impressão de caracteres na tela (Bart Simpson)...  Ambientação   \n",
       "3  1000  Operadores aritméticos\\nQual o valor de X para...  Ambientação   \n",
       "4   578  Operadores aritméticos \\nQual o valor de Y par...  Ambientação   \n",
       "\n",
       "     Contexto  \n",
       "0      Outros  \n",
       "1      Outros  \n",
       "2      Outros  \n",
       "3  Matemático  \n",
       "4  Matemático  "
      ]
     },
     "execution_count": 2,
     "metadata": {},
     "output_type": "execute_result"
    }
   ],
   "source": [
    "import spacy\n",
    "nlp = spacy.load('pt')\n",
    "\n",
    "\n",
    "df = pd.read_csv('../dados_categorizados_completo_novo.csv')\n",
    "df.head()"
   ]
  },
  {
   "cell_type": "code",
   "execution_count": 3,
   "metadata": {},
   "outputs": [],
   "source": [
    "def n_grams(sentence):\n",
    "    return sentence.split()\n",
    "master=[]\n",
    "for elemento in df['Enunciado']:\n",
    "    doc=nlp(elemento)\n",
    "    lista=[]\n",
    "    for token in doc:\n",
    "        if(token.text not in nlp.Defaults.stop_words and token.lemma_ not in nlp.Defaults.stop_words and token.text.isalpha() and len(token.text)>1):\n",
    "            lista+=[token.lemma_]\n",
    "    master+=[lista]"
   ]
  },
  {
   "cell_type": "code",
   "execution_count": 4,
   "metadata": {},
   "outputs": [],
   "source": [
    "df['tokens']=master"
   ]
  },
  {
   "cell_type": "code",
   "execution_count": 5,
   "metadata": {},
   "outputs": [],
   "source": [
    "from gensim.models import Word2Vec"
   ]
  },
  {
   "cell_type": "code",
   "execution_count": 6,
   "metadata": {},
   "outputs": [],
   "source": [
    "model = Word2Vec(min_count=10,\n",
    "                     window=10,\n",
    "                     size=20,\n",
    "                     #sample=6e-5, \n",
    "                     #alpha=0.03, \n",
    "                     #min_alpha=0.0007, \n",
    "                     #negative=20,\n",
    "                     workers=4,\n",
    "                     sg=0,\n",
    "                     hs=1)"
   ]
  },
  {
   "cell_type": "code",
   "execution_count": 7,
   "metadata": {},
   "outputs": [],
   "source": [
    "model.build_vocab(sentences=df.tokens)\n",
    "# model.train(df.tokens, total_examples=model.corpus_count, epochs=30, report_delay=1)"
   ]
  },
  {
   "cell_type": "code",
   "execution_count": 8,
   "metadata": {},
   "outputs": [],
   "source": [
    "# model.save(\"w2v.model\")\n",
    "# print(\"Model Saved\")"
   ]
  },
  {
   "cell_type": "code",
   "execution_count": 9,
   "metadata": {},
   "outputs": [],
   "source": [
    "# max_epochs = 100\n",
    "\n",
    "# for epoch in range(max_epochs):\n",
    "#     model.train(df.tokens,\n",
    "#                 total_examples=model.corpus_count,\n",
    "#                 epochs=model.iter)\n",
    "#     # decrease the learning rate\n",
    "#     model.alpha -= 0.0002\n",
    "#     # fix the learning rate, no decay\n",
    "#     model.min_alpha = model.alpha"
   ]
  },
  {
   "cell_type": "code",
   "execution_count": 10,
   "metadata": {},
   "outputs": [],
   "source": [
    "# model.init_sims(replace=True)\n",
    "# X = model[model.wv.vocab]"
   ]
  },
  {
   "cell_type": "code",
   "execution_count": 11,
   "metadata": {},
   "outputs": [],
   "source": [
    "\n",
    "# %matplotlib inline\n",
    "\n",
    "# cluster_embedding = umap.UMAP(n_neighbors=10, min_dist=0.0,\n",
    "#                               n_components=2, random_state=42).fit_transform(X)\n",
    "\n",
    "# plt.figure(figsize=(10,9))\n",
    "# plt.scatter(cluster_embedding[:, 0], cluster_embedding[:, 1], s=3, cmap='Spectral')"
   ]
  },
  {
   "cell_type": "code",
   "execution_count": 12,
   "metadata": {},
   "outputs": [],
   "source": [
    "vocab=[]\n",
    "words=[]\n",
    "for i in df.tokens:\n",
    "    for j in i:\n",
    "        try:\n",
    "            vocab.append(model.wv.word_vec(j))\n",
    "            if(j not in words):\n",
    "                words+=[j]\n",
    "        except:\n",
    "            continue"
   ]
  },
  {
   "cell_type": "code",
   "execution_count": 13,
   "metadata": {},
   "outputs": [],
   "source": [
    "len(words)\n",
    "teste=[a*0 for a in range(0,len(words))]\n"
   ]
  },
  {
   "cell_type": "code",
   "execution_count": 14,
   "metadata": {},
   "outputs": [],
   "source": [
    "# from numpy import linalg as LA\n",
    "# vec = []\n",
    "# vectors = []from numpy import linalg as LA\n",
    "# vec = []\n",
    "# for i in df.tokens:\n",
    "#     for j in i:\n",
    "#         try:\n",
    "#             vec.append(model.wv.word_vec(j))\n",
    "#             for cada in vec:\n",
    "#                 final.append(LA.norm(cada, -2))\n",
    "#         except:\n",
    "#             continue\n",
    "#     vectors.append(final)\n",
    "#     vec = []\n"
   ]
  },
  {
   "cell_type": "code",
   "execution_count": 15,
   "metadata": {},
   "outputs": [],
   "source": [
    "def procura(palavra,lista):\n",
    "    contador=0\n",
    "    while(len(lista)>contador):\n",
    "        if(lista[contador]==palavra):\n",
    "            return contador\n",
    "        contador+=1\n",
    "    return -1"
   ]
  },
  {
   "cell_type": "code",
   "execution_count": 16,
   "metadata": {},
   "outputs": [],
   "source": [
    "from numpy import linalg as LA\n",
    "vectors=[]\n",
    "vec=[]\n",
    "for elemento in df.tokens:\n",
    "    for palavra in elemento:\n",
    "        indice=procura(palavra,words)\n",
    "        if(indice>-1):\n",
    "            vec=[]\n",
    "            vec.append(model.wv.word_vec(palavra))\n",
    "            for cada in vec:\n",
    "                teste[indice]=LA.norm(cada, -2)\n",
    "    vectors.append(teste)\n",
    "    teste=[a*0 for a in range(0,len(words))]"
   ]
  },
  {
   "cell_type": "code",
   "execution_count": 17,
   "metadata": {},
   "outputs": [],
   "source": [
    "# tam = 0\n",
    "\n",
    "# for i in range(0, len(vectors)):\n",
    "#     if(tam < len(vectors[i])):\n",
    "#         tam = len(vectors[i])"
   ]
  },
  {
   "cell_type": "code",
   "execution_count": 18,
   "metadata": {},
   "outputs": [],
   "source": [
    "# zeros = np.zeros(1)\n",
    "# zeros"
   ]
  },
  {
   "cell_type": "code",
   "execution_count": 19,
   "metadata": {},
   "outputs": [],
   "source": [
    "# for i in range(0, len(vectors)):\n",
    "#     while(len(vectors[i]) < tam):\n",
    "#         vectors[i].append(zeros)"
   ]
  },
  {
   "cell_type": "code",
   "execution_count": 20,
   "metadata": {},
   "outputs": [],
   "source": [
    "# from numpy import linalg as LA\n",
    "\n",
    "# vec = []\n",
    "# vectors_norm = []\n",
    "\n",
    "# for i in vectors:\n",
    "#     for j in i:\n",
    "#         vec.append(LA.norm(j, -2))\n",
    "#     vectors_norm.append(vec)\n",
    "#     vec = []"
   ]
  },
  {
   "cell_type": "code",
   "execution_count": 21,
   "metadata": {},
   "outputs": [],
   "source": [
    "X=vectors\n",
    "y=df['Tópico'].values"
   ]
  },
  {
   "cell_type": "code",
   "execution_count": 22,
   "metadata": {},
   "outputs": [],
   "source": [
    "from sklearn.ensemble import RandomForestClassifier\n",
    "from sklearn.svm import LinearSVC\n",
    "pipeline = RandomForestClassifier(class_weight=\"balanced_subsample\",random_state=42)"
   ]
  },
  {
   "cell_type": "code",
   "execution_count": 23,
   "metadata": {},
   "outputs": [],
   "source": [
    "from sklearn.model_selection import cross_val_predict\n",
    "y_pred=cross_val_predict(pipeline,X,y,cv=10)"
   ]
  },
  {
   "cell_type": "code",
   "execution_count": 24,
   "metadata": {},
   "outputs": [
    {
     "name": "stdout",
     "output_type": "stream",
     "text": [
      "[[ 18   0   0   1   0   0   0   0   0]\n",
      " [  1  91  21   1   0   0   0  21   1]\n",
      " [  0  14 128   0   0  11   0   8   0]\n",
      " [  2  17   0  63   6   0   0  26   0]\n",
      " [  0   2   0   5  87   1   4   2  16]\n",
      " [  0   0   2   0   0 130   0   1   1]\n",
      " [  0   4   0   0   3   1  38   1   0]\n",
      " [  3  11   1   9   0   2   0 130   1]\n",
      " [  0   2   0   0   4   0   0   1 153]]\n"
     ]
    }
   ],
   "source": [
    "print(metrics.confusion_matrix(y,y_pred))"
   ]
  },
  {
   "cell_type": "code",
   "execution_count": 25,
   "metadata": {},
   "outputs": [
    {
     "name": "stdout",
     "output_type": "stream",
     "text": [
      "                                     precision    recall  f1-score   support\n",
      "\n",
      "                        Ambientação       0.75      0.95      0.84        19\n",
      "     Estrutura condicional composta       0.65      0.67      0.66       136\n",
      "    Estrutura condicional encadeada       0.84      0.80      0.82       161\n",
      "Estrutura de repetição por condição       0.80      0.55      0.65       114\n",
      "Estrutura de repetição por contagem       0.87      0.74      0.80       117\n",
      "                           Matrizes       0.90      0.97      0.93       134\n",
      "                            Strings       0.90      0.81      0.85        47\n",
      "   Variáveis e Estrutura Sequencial       0.68      0.83      0.75       157\n",
      "                              Vetor       0.89      0.96      0.92       160\n",
      "\n",
      "                           accuracy                           0.80      1045\n",
      "                          macro avg       0.81      0.81      0.80      1045\n",
      "                       weighted avg       0.81      0.80      0.80      1045\n",
      "\n"
     ]
    }
   ],
   "source": [
    "print(metrics.classification_report(y,y_pred))"
   ]
  },
  {
   "cell_type": "code",
   "execution_count": 26,
   "metadata": {},
   "outputs": [
    {
     "name": "stdout",
     "output_type": "stream",
     "text": [
      "0.8019138755980861\n"
     ]
    }
   ],
   "source": [
    "print(metrics.accuracy_score(y,y_pred))"
   ]
  },
  {
   "cell_type": "code",
   "execution_count": 27,
   "metadata": {},
   "outputs": [],
   "source": [
    "from sklearn.metrics import confusion_matrix\n",
    "\n",
    "mat_etc = confusion_matrix(y, y_pred)\n",
    "row_sums = mat_etc.sum(axis=1, keepdims=True)"
   ]
  },
  {
   "cell_type": "code",
   "execution_count": 28,
   "metadata": {},
   "outputs": [],
   "source": [
    "norm_conf_mx = mat_etc / row_sums"
   ]
  },
  {
   "cell_type": "code",
   "execution_count": 29,
   "metadata": {},
   "outputs": [],
   "source": [
    "labels = ['Ambientação','Estrutura condicional composta','Estrutura condicional encadeada'\n",
    "          ,'Estrutura de repetição por condição','Estrutura de repetição por contagem','Matrizes'\n",
    "          ,'Strings','Variáveis e Estrutura Sequencial','Vetor']"
   ]
  },
  {
   "cell_type": "code",
   "execution_count": 30,
   "metadata": {},
   "outputs": [
    {
     "data": {
      "image/png": "[encoded data removed]",
      "text/plain": [
       "<Figure size 432x432 with 2 Axes>"
      ]
     },
     "metadata": {
      "needs_background": "light"
     },
     "output_type": "display_data"
    }
   ],
   "source": [
    "fig, ax = plt.subplots(figsize=(6,6))\n",
    "sns.heatmap(pd.DataFrame(norm_conf_mx.round(2),\n",
    "                         columns=labels, \n",
    "                         index=labels), \n",
    "            annot=True, \n",
    "            fmt='g', \n",
    "            cmap='Blues')\n",
    "plt.xlabel('predicted value')\n",
    "plt.ylabel('true value');"
   ]
  },
  {
   "cell_type": "code",
   "execution_count": null,
   "metadata": {},
   "outputs": [],
   "source": []
  }
 ],
 "metadata": {
  "kernelspec": {
   "display_name": "Python 3",
   "language": "python",
   "name": "python3"
  },
  "language_info": {
   "codemirror_mode": {
    "name": "ipython",
    "version": 3
   },
   "file_extension": ".py",
   "mimetype": "text/x-python",
   "name": "python",
   "nbconvert_exporter": "python",
   "pygments_lexer": "ipython3",
   "version": "3.7.5"
  }
 },
 "nbformat": 4,
 "nbformat_minor": 2
}
