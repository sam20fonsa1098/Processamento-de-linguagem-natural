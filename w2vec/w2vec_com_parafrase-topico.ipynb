{
 "cells": [
  {
   "cell_type": "code",
   "execution_count": 1,
   "metadata": {},
   "outputs": [],
   "source": [
    "import numpy as np\n",
    "import pandas as pd\n",
    "from sklearn.svm import LinearSVC\n",
    "from sklearn import metrics\n",
    "import seaborn as sns\n"
   ]
  },
  {
   "cell_type": "code",
   "execution_count": 2,
   "metadata": {},
   "outputs": [
    {
     "data": {
      "text/html": [
       "<div>\n",
       "<style scoped>\n",
       "    .dataframe tbody tr th:only-of-type {\n",
       "        vertical-align: middle;\n",
       "    }\n",
       "\n",
       "    .dataframe tbody tr th {\n",
       "        vertical-align: top;\n",
       "    }\n",
       "\n",
       "    .dataframe thead th {\n",
       "        text-align: right;\n",
       "    }\n",
       "</style>\n",
       "<table border=\"1\" class=\"dataframe\">\n",
       "  <thead>\n",
       "    <tr style=\"text-align: right;\">\n",
       "      <th></th>\n",
       "      <th>Id</th>\n",
       "      <th>Enunciado</th>\n",
       "      <th>Tópico</th>\n",
       "      <th>Contexto</th>\n",
       "    </tr>\n",
       "  </thead>\n",
       "  <tbody>\n",
       "    <tr>\n",
       "      <th>0</th>\n",
       "      <td>994</td>\n",
       "      <td>Meu primeiro programa\\nEscreva um programa que...</td>\n",
       "      <td>Ambientação</td>\n",
       "      <td>Outros</td>\n",
       "    </tr>\n",
       "    <tr>\n",
       "      <th>1</th>\n",
       "      <td>996</td>\n",
       "      <td>Impressão de caracteres na tela\\nEscreva um pr...</td>\n",
       "      <td>Ambientação</td>\n",
       "      <td>Outros</td>\n",
       "    </tr>\n",
       "    <tr>\n",
       "      <th>2</th>\n",
       "      <td>999</td>\n",
       "      <td>Impressão de caracteres na tela (Bart Simpson)...</td>\n",
       "      <td>Ambientação</td>\n",
       "      <td>Outros</td>\n",
       "    </tr>\n",
       "    <tr>\n",
       "      <th>3</th>\n",
       "      <td>1000</td>\n",
       "      <td>Operadores aritméticos\\nQual o valor de X para...</td>\n",
       "      <td>Ambientação</td>\n",
       "      <td>Matemático</td>\n",
       "    </tr>\n",
       "    <tr>\n",
       "      <th>4</th>\n",
       "      <td>578</td>\n",
       "      <td>Operadores aritméticos \\nQual o valor de Y par...</td>\n",
       "      <td>Ambientação</td>\n",
       "      <td>Matemático</td>\n",
       "    </tr>\n",
       "  </tbody>\n",
       "</table>\n",
       "</div>"
      ],
      "text/plain": [
       "     Id                                          Enunciado       Tópico  \\\n",
       "0   994  Meu primeiro programa\\nEscreva um programa que...  Ambientação   \n",
       "1   996  Impressão de caracteres na tela\\nEscreva um pr...  Ambientação   \n",
       "2   999  Impressão de caracteres na tela (Bart Simpson)...  Ambientação   \n",
       "3  1000  Operadores aritméticos\\nQual o valor de X para...  Ambientação   \n",
       "4   578  Operadores aritméticos \\nQual o valor de Y par...  Ambientação   \n",
       "\n",
       "     Contexto  \n",
       "0      Outros  \n",
       "1      Outros  \n",
       "2      Outros  \n",
       "3  Matemático  \n",
       "4  Matemático  "
      ]
     },
     "execution_count": 2,
     "metadata": {},
     "output_type": "execute_result"
    }
   ],
   "source": [
    "import spacy\n",
    "nlp = spacy.load('pt')\n",
    "\n",
    "\n",
    "df = pd.read_csv('../dados_categorizados_completo_novo.csv')\n",
    "df.head()"
   ]
  },
  {
   "cell_type": "code",
   "execution_count": 3,
   "metadata": {},
   "outputs": [],
   "source": [
    "def get_new_sentences(da,maximum,synonyms_lexicon):\n",
    "    strings=[]\n",
    "    for elemento in da['Enunciado']:\n",
    "        if(len(da)+len(strings)<maximum):\n",
    "            contador=0\n",
    "            lista=elemento.split()\n",
    "            while(contador<len(lista)):\n",
    "                if(lista[contador] in synonyms_lexicon):\n",
    "                    lista[contador]=synonyms_lexicon[lista[contador]][0]\n",
    "                contador+=1\n",
    "            strings+=[' '.join(lista)]\n",
    "        else:\n",
    "            break\n",
    "\n",
    "    new_sentences = pd.Series(strings)\n",
    "    return new_sentences\n",
    "\n",
    "def get_synonyms_lexicon(path):\n",
    "    synonyms_lexicon = {}\n",
    "    text_entries = [l.strip() for l in open(path).readlines()]\n",
    "    for e in text_entries:\n",
    "        e = e.split(' ')\n",
    "        k = e[0]\n",
    "        v = e[1:len(e)]\n",
    "        synonyms_lexicon[k] = v\n",
    "    return synonyms_lexicon\n",
    "\n",
    "synonyms_lexicon = get_synonyms_lexicon('../paráfrase/arq3.txt')"
   ]
  },
  {
   "cell_type": "code",
   "execution_count": 4,
   "metadata": {},
   "outputs": [
    {
     "name": "stderr",
     "output_type": "stream",
     "text": [
      "/home/samuel/anaconda3/lib/python3.7/site-packages/ipykernel_launcher.py:77: FutureWarning: Sorting because non-concatenation axis is not aligned. A future version\n",
      "of pandas will change to not sort by default.\n",
      "\n",
      "To accept the future behavior, pass 'sort=False'.\n",
      "\n",
      "To retain the current behavior and silence the warning, pass 'sort=True'.\n",
      "\n",
      "/home/samuel/anaconda3/lib/python3.7/site-packages/ipykernel_launcher.py:78: FutureWarning: Sorting because non-concatenation axis is not aligned. A future version\n",
      "of pandas will change to not sort by default.\n",
      "\n",
      "To accept the future behavior, pass 'sort=False'.\n",
      "\n",
      "To retain the current behavior and silence the warning, pass 'sort=True'.\n",
      "\n",
      "/home/samuel/anaconda3/lib/python3.7/site-packages/ipykernel_launcher.py:79: FutureWarning: Sorting because non-concatenation axis is not aligned. A future version\n",
      "of pandas will change to not sort by default.\n",
      "\n",
      "To accept the future behavior, pass 'sort=False'.\n",
      "\n",
      "To retain the current behavior and silence the warning, pass 'sort=True'.\n",
      "\n",
      "/home/samuel/anaconda3/lib/python3.7/site-packages/ipykernel_launcher.py:80: FutureWarning: Sorting because non-concatenation axis is not aligned. A future version\n",
      "of pandas will change to not sort by default.\n",
      "\n",
      "To accept the future behavior, pass 'sort=False'.\n",
      "\n",
      "To retain the current behavior and silence the warning, pass 'sort=True'.\n",
      "\n",
      "/home/samuel/anaconda3/lib/python3.7/site-packages/ipykernel_launcher.py:81: FutureWarning: Sorting because non-concatenation axis is not aligned. A future version\n",
      "of pandas will change to not sort by default.\n",
      "\n",
      "To accept the future behavior, pass 'sort=False'.\n",
      "\n",
      "To retain the current behavior and silence the warning, pass 'sort=True'.\n",
      "\n",
      "/home/samuel/anaconda3/lib/python3.7/site-packages/ipykernel_launcher.py:82: FutureWarning: Sorting because non-concatenation axis is not aligned. A future version\n",
      "of pandas will change to not sort by default.\n",
      "\n",
      "To accept the future behavior, pass 'sort=False'.\n",
      "\n",
      "To retain the current behavior and silence the warning, pass 'sort=True'.\n",
      "\n",
      "/home/samuel/anaconda3/lib/python3.7/site-packages/ipykernel_launcher.py:83: FutureWarning: Sorting because non-concatenation axis is not aligned. A future version\n",
      "of pandas will change to not sort by default.\n",
      "\n",
      "To accept the future behavior, pass 'sort=False'.\n",
      "\n",
      "To retain the current behavior and silence the warning, pass 'sort=True'.\n",
      "\n",
      "/home/samuel/anaconda3/lib/python3.7/site-packages/ipykernel_launcher.py:84: FutureWarning: Sorting because non-concatenation axis is not aligned. A future version\n",
      "of pandas will change to not sort by default.\n",
      "\n",
      "To accept the future behavior, pass 'sort=False'.\n",
      "\n",
      "To retain the current behavior and silence the warning, pass 'sort=True'.\n",
      "\n",
      "/home/samuel/anaconda3/lib/python3.7/site-packages/ipykernel_launcher.py:85: FutureWarning: Sorting because non-concatenation axis is not aligned. A future version\n",
      "of pandas will change to not sort by default.\n",
      "\n",
      "To accept the future behavior, pass 'sort=False'.\n",
      "\n",
      "To retain the current behavior and silence the warning, pass 'sort=True'.\n",
      "\n"
     ]
    }
   ],
   "source": [
    "maximum = df.Tópico.value_counts().max()\n",
    "\n",
    "# Separação de cada problemas em suas respectivas classes\n",
    "g = df.groupby('Tópico')\n",
    "\n",
    "ece = g.get_group('Estrutura condicional encadeada')\n",
    "#     ec=g.get_group('Estrutura condicional')\n",
    "vetor = g.get_group('Vetor')\n",
    "ves = g.get_group('Variáveis e Estrutura Sequencial')\n",
    "ecc = g.get_group('Estrutura condicional composta')\n",
    "matrizes = g.get_group('Matrizes')\n",
    "ercont = g.get_group('Estrutura de repetição por contagem')\n",
    "ercond = g.get_group('Estrutura de repetição por condição')\n",
    "strings = g.get_group('Strings')\n",
    "ambientacao = g.get_group('Ambientação')\n",
    "\n",
    "#criação de novas sentenças\n",
    "\n",
    "new_ece = get_new_sentences(ece,maximum,synonyms_lexicon)\n",
    "new_vetor = get_new_sentences(vetor,maximum,synonyms_lexicon)\n",
    "new_ves = get_new_sentences(ves,maximum,synonyms_lexicon)\n",
    "new_ecc = get_new_sentences(ecc,maximum,synonyms_lexicon)\n",
    "new_matrizes = get_new_sentences(matrizes,maximum,synonyms_lexicon)\n",
    "new_ercond = get_new_sentences(ercond,maximum,synonyms_lexicon)\n",
    "new_ercont = get_new_sentences(ercont,maximum,synonyms_lexicon)\n",
    "new_strings = get_new_sentences(strings,maximum,synonyms_lexicon)\n",
    "new_ambientacao = get_new_sentences(ambientacao,maximum,synonyms_lexicon)\n",
    "\n",
    "\n",
    "#criando dataframe de cada sentença criada\n",
    "\n",
    "new_ece = pd.DataFrame(new_ece,columns=['Enunciado'])\n",
    "new_ece['Tópico'] = 'Estrutura condicional'\n",
    "new_ece['Contexto'] = 'Nada'\n",
    "\n",
    "\n",
    "new_vetor = pd.DataFrame(new_vetor,columns=['Enunciado'])\n",
    "new_vetor['Tópico'] = 'Vetor'\n",
    "new_vetor['Contexto'] = 'Nada'\n",
    "\n",
    "\n",
    "new_ves = pd.DataFrame(new_ves,columns=['Enunciado'])\n",
    "new_ves['Tópico'] = 'Variáveis e Estrutura Sequencial'\n",
    "new_ves['Contexto'] = 'Nada'\n",
    "\n",
    "\n",
    "new_ecc = pd.DataFrame(new_ecc,columns=['Enunciado'])\n",
    "new_ecc['Tópico'] = 'Estrutura condicional composta'\n",
    "new_ecc['Contexto'] = 'Nada'\n",
    "\n",
    "\n",
    "new_matrizes = pd.DataFrame(new_matrizes,columns=['Enunciado'])\n",
    "new_matrizes['Tópico'] = 'Matrizes'\n",
    "new_matrizes['Contexto'] = 'Nada'\n",
    "\n",
    "\n",
    "new_ercont = pd.DataFrame(new_ercont,columns=['Enunciado'])\n",
    "new_ercont['Tópico'] = 'Estrutura de repetição por contagem'\n",
    "new_ercont['Contexto'] = 'Nada'\n",
    "\n",
    "\n",
    "new_ercond = pd.DataFrame(new_ercond,columns=['Enunciado'])\n",
    "new_ercond['Tópico'] = 'Estrutura de repetição por condição'\n",
    "new_ercond['Contexto'] = 'Nada'\n",
    "\n",
    "\n",
    "new_strings = pd.DataFrame(new_strings,columns=['Enunciado'])\n",
    "new_strings['Tópico'] = 'Strings'\n",
    "new_strings['Contexto'] = 'Nada'\n",
    "\n",
    "\n",
    "new_ambientacao = pd.DataFrame(new_ambientacao,columns=['Enunciado'])\n",
    "new_ambientacao['Tópico'] = 'Ambientação'\n",
    "new_ambientacao['Contexto'] = 'Nada'\n",
    "\n",
    "\n",
    "ece_extended = pd.concat([ece, new_ece], keys = ['Enunciado', 'Tópico'])\n",
    "vetor_extended = pd.concat([vetor, new_vetor], keys = ['Enunciado', 'Tópico'])\n",
    "ves_extended = pd.concat([ves, new_ves], keys = ['Enunciado', 'Tópico'])\n",
    "ecc_extended = pd.concat([ecc, new_ecc], keys = ['Enunciado', 'Tópico'])\n",
    "matrizes_extended = pd.concat([matrizes, new_matrizes], keys = ['Enunciado', 'Tópico'])\n",
    "ercont_extended = pd.concat([ercont, new_ercont], keys = ['Enunciado', 'Tópico'])\n",
    "ercond_extended = pd.concat([ercond, new_ercond], keys = ['Enunciado', 'Tópico'])\n",
    "strings_extended = pd.concat([strings, new_strings], keys = ['Enunciado', 'Tópico'])\n",
    "ambientacao_extended = pd.concat([ambientacao, new_ambientacao], keys = ['Enunciado', 'Tópico'])\n",
    "\n",
    "#concantenando dataframes de sentenças parafráseadas a base de dados original \n",
    "df = pd.concat([ece_extended,vetor_extended,ves_extended,ecc_extended,\n",
    "           matrizes_extended,ercont_extended,ercond_extended,strings_extended,ambientacao_extended])"
   ]
  },
  {
   "cell_type": "code",
   "execution_count": 5,
   "metadata": {},
   "outputs": [
    {
     "data": {
      "text/plain": [
       "Estrutura de repetição por contagem    161\n",
       "Variáveis e Estrutura Sequencial       161\n",
       "Vetor                                  161\n",
       "Estrutura condicional encadeada        161\n",
       "Estrutura condicional composta         161\n",
       "Matrizes                               161\n",
       "Estrutura de repetição por condição    161\n",
       "Strings                                 94\n",
       "Ambientação                             38\n",
       "Name: Tópico, dtype: int64"
      ]
     },
     "execution_count": 5,
     "metadata": {},
     "output_type": "execute_result"
    }
   ],
   "source": [
    "df.Tópico.value_counts()"
   ]
  },
  {
   "cell_type": "code",
   "execution_count": 6,
   "metadata": {},
   "outputs": [],
   "source": [
    "def n_grams(sentence):\n",
    "    return sentence.split()\n",
    "master=[]\n",
    "for elemento in df['Enunciado']:\n",
    "    doc=nlp(elemento)\n",
    "    lista=[]\n",
    "    for token in doc:\n",
    "        if(token.text not in nlp.Defaults.stop_words and token.lemma_ not in nlp.Defaults.stop_words and token.text.isalpha() and len(token.text)>1):\n",
    "            lista+=[token.lemma_]\n",
    "    master+=[lista]"
   ]
  },
  {
   "cell_type": "code",
   "execution_count": 7,
   "metadata": {},
   "outputs": [],
   "source": [
    "df['tokens']=master"
   ]
  },
  {
   "cell_type": "code",
   "execution_count": 8,
   "metadata": {},
   "outputs": [],
   "source": [
    "from gensim.models import Word2Vec"
   ]
  },
  {
   "cell_type": "code",
   "execution_count": 9,
   "metadata": {},
   "outputs": [],
   "source": [
    "model = Word2Vec(min_count=10,\n",
    "                     window=10,\n",
    "                     size=20,\n",
    "                     sample=6e-5, \n",
    "                     alpha=0.03, \n",
    "                     min_alpha=0.0007, \n",
    "                     negative=20,\n",
    "                     workers=4,\n",
    "                     sg=0,\n",
    "                     hs=1)"
   ]
  },
  {
   "cell_type": "code",
   "execution_count": 10,
   "metadata": {},
   "outputs": [],
   "source": [
    "model.build_vocab(sentences=df.tokens)\n",
    "# model.train(df.tokens, total_examples=model.corpus_count, epochs=30, report_delay=1)"
   ]
  },
  {
   "cell_type": "code",
   "execution_count": 11,
   "metadata": {},
   "outputs": [],
   "source": [
    "# model.save(\"w2v.model\")\n",
    "# print(\"Model Saved\")"
   ]
  },
  {
   "cell_type": "code",
   "execution_count": 12,
   "metadata": {},
   "outputs": [],
   "source": [
    "# max_epochs = 100\n",
    "\n",
    "# for epoch in range(max_epochs):\n",
    "#     model.train(df.tokens,\n",
    "#                 total_examples=model.corpus_count,\n",
    "#                 epochs=model.iter)\n",
    "#     # decrease the learning rate\n",
    "#     model.alpha -= 0.0002\n",
    "#     # fix the learning rate, no decay\n",
    "#     model.min_alpha = model.alpha"
   ]
  },
  {
   "cell_type": "code",
   "execution_count": 13,
   "metadata": {},
   "outputs": [],
   "source": [
    "# model.init_sims(replace=True)\n",
    "# X = model[model.wv.vocab]"
   ]
  },
  {
   "cell_type": "code",
   "execution_count": 14,
   "metadata": {},
   "outputs": [],
   "source": [
    "# import umap\n",
    "# import matplotlib.pyplot as plt\n",
    "# %matplotlib inline\n",
    "\n",
    "# cluster_embedding = umap.UMAP(n_neighbors=10, min_dist=0.0,\n",
    "#                               n_components=2, random_state=42).fit_transform(X)\n",
    "\n",
    "# plt.figure(figsize=(10,9))\n",
    "# plt.scatter(cluster_embedding[:, 0], cluster_embedding[:, 1], s=3, cmap='Spectral')"
   ]
  },
  {
   "cell_type": "code",
   "execution_count": 15,
   "metadata": {},
   "outputs": [],
   "source": [
    "vocab=[]\n",
    "words=[]\n",
    "for i in df.tokens:\n",
    "    for j in i:\n",
    "        try:\n",
    "            vocab.append(model.wv.word_vec(j))\n",
    "            if(j not in words):\n",
    "                words+=[j]\n",
    "        except:\n",
    "            continue"
   ]
  },
  {
   "cell_type": "code",
   "execution_count": 16,
   "metadata": {},
   "outputs": [],
   "source": [
    "len(words)\n",
    "teste=[a*0 for a in range(0,len(words))]"
   ]
  },
  {
   "cell_type": "code",
   "execution_count": 17,
   "metadata": {},
   "outputs": [],
   "source": [
    "def procura(palavra,lista):\n",
    "    contador=0\n",
    "    while(len(lista)>contador):\n",
    "        if(lista[contador]==palavra):\n",
    "            return contador\n",
    "        contador+=1\n",
    "    return -1"
   ]
  },
  {
   "cell_type": "code",
   "execution_count": 18,
   "metadata": {},
   "outputs": [],
   "source": [
    "from numpy import linalg as LA\n",
    "vectors=[]\n",
    "vec=[]\n",
    "for elemento in df.tokens:\n",
    "    for palavra in elemento:\n",
    "        indice=procura(palavra,words)\n",
    "        if(indice>-1):\n",
    "            vec=[]\n",
    "            vec.append(model.wv.word_vec(palavra))\n",
    "            for cada in vec:\n",
    "                teste[indice]=LA.norm(cada, -2)\n",
    "    vectors.append(teste)\n",
    "    teste=[a*0 for a in range(0,len(words))]"
   ]
  },
  {
   "cell_type": "code",
   "execution_count": 19,
   "metadata": {},
   "outputs": [],
   "source": [
    "# vec = []\n",
    "# vectors = []\n",
    "\n",
    "# for i in df.tokens:\n",
    "#     for j in i:\n",
    "#         try:\n",
    "#             vec.append(model.wv.word_vec(j))\n",
    "#         except:\n",
    "#             continue\n",
    "#     vectors.append(vec)\n",
    "#     vec = []"
   ]
  },
  {
   "cell_type": "code",
   "execution_count": 20,
   "metadata": {},
   "outputs": [],
   "source": [
    "# tam = 0\n",
    "\n",
    "# for i in range(0, len(vectors)):\n",
    "#     if(tam < len(vectors[i])):\n",
    "#         tam = len(vectors[i])"
   ]
  },
  {
   "cell_type": "code",
   "execution_count": 21,
   "metadata": {},
   "outputs": [],
   "source": [
    "# zeros = np.zeros(1)\n",
    "# zeros"
   ]
  },
  {
   "cell_type": "code",
   "execution_count": 22,
   "metadata": {},
   "outputs": [],
   "source": [
    "# for i in range(0, len(vectors)):\n",
    "#     while(len(vectors[i]) < tam):\n",
    "#         vectors[i].append(zeros)"
   ]
  },
  {
   "cell_type": "code",
   "execution_count": 23,
   "metadata": {},
   "outputs": [],
   "source": [
    "# from numpy import linalg as LA\n",
    "\n",
    "# vec = []\n",
    "# vectors_norm = []\n",
    "\n",
    "# for i in vectors:\n",
    "#     for j in i:\n",
    "#         vec.append(LA.norm(j, -2))\n",
    "#     vectors_norm.append(vec)\n",
    "#     vec = []"
   ]
  },
  {
   "cell_type": "code",
   "execution_count": 24,
   "metadata": {},
   "outputs": [],
   "source": [
    "# from sklearn.decomposition import TruncatedSVD\n",
    "\n",
    "# svd = TruncatedSVD(algorithm='randomized', n_components=100)\n",
    "# senteces = svd.fit_transform(vectors_norm)"
   ]
  },
  {
   "cell_type": "code",
   "execution_count": 25,
   "metadata": {},
   "outputs": [],
   "source": [
    "X=vectors\n",
    "y=df['Tópico'].values"
   ]
  },
  {
   "cell_type": "code",
   "execution_count": 26,
   "metadata": {},
   "outputs": [],
   "source": [
    "topico=[]\n",
    "for elemento in df['Contexto']:\n",
    "    topico+=[elemento]"
   ]
  },
  {
   "cell_type": "code",
   "execution_count": 27,
   "metadata": {},
   "outputs": [],
   "source": [
    "contador=0\n",
    "X_novo=[]\n",
    "y_novo=[]\n",
    "while(contador<len(X)):\n",
    "    if(topico[contador]!='Nada'):\n",
    "        X_novo+=[X[contador]]\n",
    "        y_novo+=[y[contador]]\n",
    "    contador+=1"
   ]
  },
  {
   "cell_type": "code",
   "execution_count": 28,
   "metadata": {},
   "outputs": [],
   "source": [
    "from sklearn.ensemble import RandomForestClassifier\n",
    "from sklearn.svm import LinearSVC\n",
    "pipeline = RandomForestClassifier(class_weight=\"balanced_subsample\",random_state=42)\n",
    "# pipeline=LinearSVC()"
   ]
  },
  {
   "cell_type": "code",
   "execution_count": 29,
   "metadata": {},
   "outputs": [],
   "source": [
    "X=X_novo\n",
    "y=y_novo\n",
    "from sklearn.model_selection import cross_val_predict\n",
    "y_pred=cross_val_predict(pipeline,X,y,cv=10)"
   ]
  },
  {
   "cell_type": "code",
   "execution_count": 30,
   "metadata": {},
   "outputs": [
    {
     "name": "stdout",
     "output_type": "stream",
     "text": [
      "[[ 18   0   0   1   0   0   0   0   0]\n",
      " [  1  89  11   0   0   0   0  34   1]\n",
      " [  0  10 134   0   0  10   0   7   0]\n",
      " [  2  16   0  75   6   0   0  15   0]\n",
      " [  0   1   0   4  89   1   5   1  16]\n",
      " [  0   0   2   0   0 126   4   1   1]\n",
      " [  0   2   1   1   2   0  40   1   0]\n",
      " [  1  11   1   7   1   1   0 134   1]\n",
      " [  0   2   0   0   6   0   0   0 152]]\n"
     ]
    }
   ],
   "source": [
    "print(metrics.confusion_matrix(y,y_pred))"
   ]
  },
  {
   "cell_type": "code",
   "execution_count": 31,
   "metadata": {},
   "outputs": [
    {
     "name": "stdout",
     "output_type": "stream",
     "text": [
      "                                     precision    recall  f1-score   support\n",
      "\n",
      "                        Ambientação       0.82      0.95      0.88        19\n",
      "     Estrutura condicional composta       0.68      0.65      0.67       136\n",
      "    Estrutura condicional encadeada       0.90      0.83      0.86       161\n",
      "Estrutura de repetição por condição       0.85      0.66      0.74       114\n",
      "Estrutura de repetição por contagem       0.86      0.76      0.81       117\n",
      "                           Matrizes       0.91      0.94      0.93       134\n",
      "                            Strings       0.82      0.85      0.83        47\n",
      "   Variáveis e Estrutura Sequencial       0.69      0.85      0.77       157\n",
      "                              Vetor       0.89      0.95      0.92       160\n",
      "\n",
      "                           accuracy                           0.82      1045\n",
      "                          macro avg       0.82      0.83      0.82      1045\n",
      "                       weighted avg       0.82      0.82      0.82      1045\n",
      "\n"
     ]
    }
   ],
   "source": [
    "print(metrics.classification_report(y,y_pred))"
   ]
  },
  {
   "cell_type": "code",
   "execution_count": 32,
   "metadata": {},
   "outputs": [
    {
     "name": "stdout",
     "output_type": "stream",
     "text": [
      "0.8200956937799043\n"
     ]
    }
   ],
   "source": [
    "print(metrics.accuracy_score(y,y_pred))"
   ]
  },
  {
   "cell_type": "code",
   "execution_count": 33,
   "metadata": {},
   "outputs": [],
   "source": [
    "from sklearn.metrics import confusion_matrix\n",
    "\n",
    "mat_etc = confusion_matrix(y, y_pred)\n",
    "row_sums = mat_etc.sum(axis=1, keepdims=True)"
   ]
  },
  {
   "cell_type": "code",
   "execution_count": 34,
   "metadata": {},
   "outputs": [],
   "source": [
    "norm_conf_mx = mat_etc / row_sums"
   ]
  },
  {
   "cell_type": "code",
   "execution_count": 35,
   "metadata": {},
   "outputs": [],
   "source": [
    "labels = ['Ambientação','Estrutura condicional composta','Estrutura condicional encadeada'\n",
    "          ,'Estrutura de repetição por condição','Estrutura de repetição por contagem','Matrizes'\n",
    "          ,'Strings','Variáveis e Estrutura Sequencial','Vetor']"
   ]
  },
  {
   "cell_type": "code",
   "execution_count": 36,
   "metadata": {},
   "outputs": [
    {
     "data": {
      "image/png": "[encoded data removed]",
      "text/plain": [
       "<Figure size 432x432 with 2 Axes>"
      ]
     },
     "metadata": {
      "needs_background": "light"
     },
     "output_type": "display_data"
    }
   ],
   "source": [
    "import matplotlib.pyplot as plt\n",
    "fig, ax = plt.subplots(figsize=(6,6))\n",
    "sns.heatmap(pd.DataFrame(norm_conf_mx.round(2),\n",
    "                         columns=labels, \n",
    "                         index=labels), \n",
    "            annot=True, \n",
    "            fmt='g', \n",
    "            cmap='Blues')\n",
    "plt.xlabel('predicted value')\n",
    "plt.ylabel('true value');"
   ]
  },
  {
   "cell_type": "code",
   "execution_count": null,
   "metadata": {},
   "outputs": [],
   "source": []
  },
  {
   "cell_type": "code",
   "execution_count": null,
   "metadata": {},
   "outputs": [],
   "source": []
  }
 ],
 "metadata": {
  "kernelspec": {
   "display_name": "Python 3",
   "language": "python",
   "name": "python3"
  },
  "language_info": {
   "codemirror_mode": {
    "name": "ipython",
    "version": 3
   },
   "file_extension": ".py",
   "mimetype": "text/x-python",
   "name": "python",
   "nbconvert_exporter": "python",
   "pygments_lexer": "ipython3",
   "version": "3.7.5"
  }
 },
 "nbformat": 4,
 "nbformat_minor": 2
}
