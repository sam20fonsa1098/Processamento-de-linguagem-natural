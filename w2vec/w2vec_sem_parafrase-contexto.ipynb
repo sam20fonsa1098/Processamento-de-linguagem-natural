{
 "cells": [
  {
   "cell_type": "code",
   "execution_count": 1,
   "metadata": {},
   "outputs": [],
   "source": [
    "import numpy as np\n",
    "import pandas as pd\n",
    "from sklearn.svm import LinearSVC\n",
    "from sklearn import metrics\n",
    "import seaborn as sns\n"
   ]
  },
  {
   "cell_type": "code",
   "execution_count": 2,
   "metadata": {},
   "outputs": [
    {
     "data": {
      "text/html": [
       "<div>\n",
       "<style scoped>\n",
       "    .dataframe tbody tr th:only-of-type {\n",
       "        vertical-align: middle;\n",
       "    }\n",
       "\n",
       "    .dataframe tbody tr th {\n",
       "        vertical-align: top;\n",
       "    }\n",
       "\n",
       "    .dataframe thead th {\n",
       "        text-align: right;\n",
       "    }\n",
       "</style>\n",
       "<table border=\"1\" class=\"dataframe\">\n",
       "  <thead>\n",
       "    <tr style=\"text-align: right;\">\n",
       "      <th></th>\n",
       "      <th>Id</th>\n",
       "      <th>Enunciado</th>\n",
       "      <th>Tópico</th>\n",
       "      <th>Contexto</th>\n",
       "    </tr>\n",
       "  </thead>\n",
       "  <tbody>\n",
       "    <tr>\n",
       "      <th>0</th>\n",
       "      <td>994</td>\n",
       "      <td>Meu primeiro programa\\nEscreva um programa que...</td>\n",
       "      <td>Ambientação</td>\n",
       "      <td>Outros</td>\n",
       "    </tr>\n",
       "    <tr>\n",
       "      <th>1</th>\n",
       "      <td>996</td>\n",
       "      <td>Impressão de caracteres na tela\\nEscreva um pr...</td>\n",
       "      <td>Ambientação</td>\n",
       "      <td>Outros</td>\n",
       "    </tr>\n",
       "    <tr>\n",
       "      <th>2</th>\n",
       "      <td>999</td>\n",
       "      <td>Impressão de caracteres na tela (Bart Simpson)...</td>\n",
       "      <td>Ambientação</td>\n",
       "      <td>Outros</td>\n",
       "    </tr>\n",
       "    <tr>\n",
       "      <th>3</th>\n",
       "      <td>1000</td>\n",
       "      <td>Operadores aritméticos\\nQual o valor de X para...</td>\n",
       "      <td>Ambientação</td>\n",
       "      <td>Matemático</td>\n",
       "    </tr>\n",
       "    <tr>\n",
       "      <th>4</th>\n",
       "      <td>578</td>\n",
       "      <td>Operadores aritméticos \\nQual o valor de Y par...</td>\n",
       "      <td>Ambientação</td>\n",
       "      <td>Matemático</td>\n",
       "    </tr>\n",
       "  </tbody>\n",
       "</table>\n",
       "</div>"
      ],
      "text/plain": [
       "     Id                                          Enunciado       Tópico  \\\n",
       "0   994  Meu primeiro programa\\nEscreva um programa que...  Ambientação   \n",
       "1   996  Impressão de caracteres na tela\\nEscreva um pr...  Ambientação   \n",
       "2   999  Impressão de caracteres na tela (Bart Simpson)...  Ambientação   \n",
       "3  1000  Operadores aritméticos\\nQual o valor de X para...  Ambientação   \n",
       "4   578  Operadores aritméticos \\nQual o valor de Y par...  Ambientação   \n",
       "\n",
       "     Contexto  \n",
       "0      Outros  \n",
       "1      Outros  \n",
       "2      Outros  \n",
       "3  Matemático  \n",
       "4  Matemático  "
      ]
     },
     "execution_count": 2,
     "metadata": {},
     "output_type": "execute_result"
    }
   ],
   "source": [
    "import spacy\n",
    "nlp = spacy.load('pt')\n",
    "\n",
    "\n",
    "df = pd.read_csv('../dados_categorizados_completo_novo.csv')\n",
    "df.head()"
   ]
  },
  {
   "cell_type": "code",
   "execution_count": 3,
   "metadata": {},
   "outputs": [],
   "source": [
    "def n_grams(sentence):\n",
    "    return sentence.split()\n",
    "master=[]\n",
    "for elemento in df['Enunciado']:\n",
    "    doc=nlp(elemento)\n",
    "    lista=[]\n",
    "    for token in doc:\n",
    "        if(token.text not in nlp.Defaults.stop_words and token.lemma_ not in nlp.Defaults.stop_words and token.text.isalpha() and len(token.text)>1):\n",
    "            lista+=[token.lemma_]\n",
    "    master+=[lista]"
   ]
  },
  {
   "cell_type": "code",
   "execution_count": 4,
   "metadata": {},
   "outputs": [],
   "source": [
    "df['tokens']=master"
   ]
  },
  {
   "cell_type": "code",
   "execution_count": 5,
   "metadata": {},
   "outputs": [],
   "source": [
    "from gensim.models import Word2Vec"
   ]
  },
  {
   "cell_type": "code",
   "execution_count": 6,
   "metadata": {},
   "outputs": [],
   "source": [
    "model = Word2Vec(min_count=10,\n",
    "                     window=10,\n",
    "                     size=20,\n",
    "                     #sample=6e-5, \n",
    "                     #alpha=0.03, \n",
    "                     #min_alpha=0.0007, \n",
    "                     #negative=20,\n",
    "                     workers=4,\n",
    "                     sg=0,\n",
    "                     hs=1)"
   ]
  },
  {
   "cell_type": "code",
   "execution_count": 7,
   "metadata": {},
   "outputs": [],
   "source": [
    "model.build_vocab(sentences=df.tokens)\n",
    "# model.train(df.tokens, total_examples=model.corpus_count, epochs=30, report_delay=1)"
   ]
  },
  {
   "cell_type": "code",
   "execution_count": 8,
   "metadata": {},
   "outputs": [],
   "source": [
    "# model.save(\"w2v.model\")\n",
    "# print(\"Model Saved\")"
   ]
  },
  {
   "cell_type": "code",
   "execution_count": 9,
   "metadata": {},
   "outputs": [],
   "source": [
    "# max_epochs = 100\n",
    "\n",
    "# for epoch in range(max_epochs):\n",
    "#     model.train(df.tokens,\n",
    "#                 total_examples=model.corpus_count,\n",
    "#                 epochs=model.iter)\n",
    "#     # decrease the learning rate\n",
    "#     model.alpha -= 0.0002\n",
    "#     # fix the learning rate, no decay\n",
    "#     model.min_alpha = model.alpha"
   ]
  },
  {
   "cell_type": "code",
   "execution_count": 10,
   "metadata": {},
   "outputs": [],
   "source": [
    "# model.init_sims(replace=True)\n",
    "# X = model[model.wv.vocab]"
   ]
  },
  {
   "cell_type": "code",
   "execution_count": 11,
   "metadata": {},
   "outputs": [],
   "source": [
    "# import umap\n",
    "# import matplotlib.pyplot as plt\n",
    "# %matplotlib inline\n",
    "\n",
    "# cluster_embedding = umap.UMAP(n_neighbors=10, min_dist=0.0,\n",
    "#                               n_components=2, random_state=42).fit_transform(X)\n",
    "\n",
    "# plt.figure(figsize=(10,9))\n",
    "# plt.scatter(cluster_embedding[:, 0], cluster_embedding[:, 1], s=3, cmap='Spectral')"
   ]
  },
  {
   "cell_type": "code",
   "execution_count": 12,
   "metadata": {},
   "outputs": [],
   "source": [
    "vocab=[]\n",
    "words=[]\n",
    "for i in df.tokens:\n",
    "    for j in i:\n",
    "        try:\n",
    "            vocab.append(model.wv.word_vec(j))\n",
    "            if(j not in words):\n",
    "                words+=[j]\n",
    "        except:\n",
    "            continue"
   ]
  },
  {
   "cell_type": "code",
   "execution_count": 13,
   "metadata": {},
   "outputs": [],
   "source": [
    "len(words)\n",
    "teste=[a*0 for a in range(0,len(words))]"
   ]
  },
  {
   "cell_type": "code",
   "execution_count": 14,
   "metadata": {},
   "outputs": [],
   "source": [
    "def procura(palavra,lista):\n",
    "    contador=0\n",
    "    while(len(lista)>contador):\n",
    "        if(lista[contador]==palavra):\n",
    "            return contador\n",
    "        contador+=1\n",
    "    return -1"
   ]
  },
  {
   "cell_type": "code",
   "execution_count": 15,
   "metadata": {},
   "outputs": [],
   "source": [
    "from numpy import linalg as LA\n",
    "vectors=[]\n",
    "vec=[]\n",
    "for elemento in df.tokens:\n",
    "    for palavra in elemento:\n",
    "        indice=procura(palavra,words)\n",
    "        if(indice>-1):\n",
    "            vec=[]\n",
    "            vec.append(model.wv.word_vec(palavra))\n",
    "            for cada in vec:\n",
    "                teste[indice]=LA.norm(cada, -2)\n",
    "    vectors.append(teste)\n",
    "    teste=[a*0 for a in range(0,len(words))]"
   ]
  },
  {
   "cell_type": "code",
   "execution_count": 16,
   "metadata": {},
   "outputs": [],
   "source": [
    "# vec = []\n",
    "# vectors = []\n",
    "\n",
    "# for i in df.tokens:\n",
    "#     for j in i:\n",
    "#         try:\n",
    "#             vec.append(model.wv.word_vec(j))\n",
    "#         except:\n",
    "#             continue\n",
    "#     vectors.append(vec)\n",
    "#     vec = []"
   ]
  },
  {
   "cell_type": "code",
   "execution_count": 17,
   "metadata": {},
   "outputs": [],
   "source": [
    "# tam = 0\n",
    "\n",
    "# for i in range(0, len(vectors)):\n",
    "#     if(tam < len(vectors[i])):\n",
    "#         tam = len(vectors[i])"
   ]
  },
  {
   "cell_type": "code",
   "execution_count": 18,
   "metadata": {},
   "outputs": [],
   "source": [
    "# zeros = np.zeros(1)\n",
    "# zeros"
   ]
  },
  {
   "cell_type": "code",
   "execution_count": 19,
   "metadata": {},
   "outputs": [],
   "source": [
    "# for i in range(0, len(vectors)):\n",
    "#     while(len(vectors[i]) < tam):\n",
    "#         vectors[i].append(zeros)"
   ]
  },
  {
   "cell_type": "code",
   "execution_count": 20,
   "metadata": {},
   "outputs": [],
   "source": [
    "# from numpy import linalg as LA\n",
    "\n",
    "# vec = []\n",
    "# vectors_norm = []\n",
    "\n",
    "# for i in vectors:\n",
    "#     for j in i:\n",
    "#         vec.append(LA.norm(j, -2))\n",
    "#     vectors_norm.append(vec)\n",
    "#     vec = []"
   ]
  },
  {
   "cell_type": "code",
   "execution_count": 21,
   "metadata": {},
   "outputs": [],
   "source": [
    "X=vectors\n",
    "y=df['Contexto'].values"
   ]
  },
  {
   "cell_type": "code",
   "execution_count": 31,
   "metadata": {},
   "outputs": [],
   "source": [
    "from sklearn.ensemble import RandomForestClassifier\n",
    "from sklearn.svm import LinearSVC\n",
    "pipeline = RandomForestClassifier(random_state=42)"
   ]
  },
  {
   "cell_type": "code",
   "execution_count": 32,
   "metadata": {},
   "outputs": [
    {
     "name": "stderr",
     "output_type": "stream",
     "text": [
      "/home/samuel/anaconda3/lib/python3.7/site-packages/sklearn/model_selection/_split.py:667: UserWarning: The least populated class in y has only 5 members, which is less than n_splits=10.\n",
      "  % (min_groups, self.n_splits)), UserWarning)\n"
     ]
    }
   ],
   "source": [
    "from sklearn.model_selection import cross_val_predict\n",
    "y_pred=cross_val_predict(pipeline,X,y,cv=10)"
   ]
  },
  {
   "cell_type": "code",
   "execution_count": 33,
   "metadata": {},
   "outputs": [
    {
     "name": "stdout",
     "output_type": "stream",
     "text": [
      "[[ 24   1   0   0   0   2   0   0   0   0   0   1   6   0   1   0   0   0\n",
      "    0   0   0   0   0   0]\n",
      " [  1  84   0   1   0   3   0   0   0   0   1   1  17   0   1   0   0   0\n",
      "    6   0   3   0   0   2]\n",
      " [  0   0   5   0   0   0   0   0   0   0   0   0   1   0   0   0   0   0\n",
      "    0   0   0   0   0   0]\n",
      " [  0   1   0  15   0   0   0   0   0   0   0   0   0   0   0   0   0   0\n",
      "    0   0   0   0   0   0]\n",
      " [  0   0   0   0  11   0   0   0   0   0   0   1   5   0   3   0   0   0\n",
      "    1   0   0   0   0   0]\n",
      " [  0   0   0   0   0  73   0   0   0   2   0   0   3   0   1   0   0   0\n",
      "    0   0   0   0   0   0]\n",
      " [  0   2   0   0   0   4  29   0   0   0   0   0   4   0   0   0   3   0\n",
      "    0   0   0   0   0   0]\n",
      " [  0   0   0   0   0   1   0  28   0   0   0   0   0   0   1   0   0   0\n",
      "    0   0   0   0   0   0]\n",
      " [  0   1   0   0   0   0   0   0  31   0   0   2   1   0   0   0   0   0\n",
      "    0   0   0   0   0   1]\n",
      " [  0   0   0   0   0   1   0   1   0   7   0   0   2   0   0   0   0   0\n",
      "    0   0   0   0   0   0]\n",
      " [  0   1   0   0   0   0   0   0   0   0   4   0   0   0   0   0   0   0\n",
      "    0   0   0   0   0   0]\n",
      " [  4   3   0   0   0   0   0   0   4   0   0  74  10   0   0   0   0   1\n",
      "    0   0   0   0   0   0]\n",
      " [  0  13   0   0   0   0   0   0   0   1   0   0 244   0   3   0   0   0\n",
      "    0   0   0   0   0   0]\n",
      " [  0   0   0   0   0   0   0   1   0   0   0   0   1  16   0   0   0   0\n",
      "    0   0   0   0   0   0]\n",
      " [  0   0   0   0   0   0   0   0   2   1   0   0  13   0  43   0   0   0\n",
      "    0   0   0   0   0   0]\n",
      " [  0   1   0   0   0   0   0   0   0   0   0   1   0   0   0  16   0   0\n",
      "    0   0   0   0   0   0]\n",
      " [  0   1   0   0   0   1   0   0   0   0   0   0   3   0   0   0  17   0\n",
      "    0   0   0   0   0   0]\n",
      " [  0   0   0   0   0   0   0   0   0   0   0   0   1   0   0   0   0  24\n",
      "    0   0   0   0   0   0]\n",
      " [  0   1   0   0   0   0   0   0   0   0   0   0   1   0   0   0   0   0\n",
      "    5   0   0   0   0   0]\n",
      " [  0   0   0   0   0   0   0   0   0   0   0   2   1   0   0   0   0   0\n",
      "    0  20   0   0   0   0]\n",
      " [  0   6   0   0   0   0   0   0   0   0   0   0   0   0   2   0   0   0\n",
      "    0   0  27   0   0   0]\n",
      " [  0   2   0   0   0   0   0   0   0   0   0   0   1   0   1   0   0   0\n",
      "    1   0   0  12   0   0]\n",
      " [  0   0   0   0   0   0   0   0   0   0   0   0   1   0   1   0   0   0\n",
      "    0   0   0   0  18   0]\n",
      " [  0   5   0   0   0   0   0   0   0   0   0   1   4   0   0   0   0   0\n",
      "    2   0   0   0   0  31]]\n"
     ]
    }
   ],
   "source": [
    "print(metrics.confusion_matrix(y,y_pred))"
   ]
  },
  {
   "cell_type": "code",
   "execution_count": 34,
   "metadata": {},
   "outputs": [
    {
     "name": "stdout",
     "output_type": "stream",
     "text": [
      "                 precision    recall  f1-score   support\n",
      "\n",
      "       Bancário       0.83      0.69      0.75        35\n",
      "      Comercial       0.69      0.70      0.69       120\n",
      "  Computacional       1.00      0.83      0.91         6\n",
      "        Consumo       0.94      0.94      0.94        16\n",
      "    Data e hora       1.00      0.52      0.69        21\n",
      "        Escolar       0.86      0.92      0.89        79\n",
      "        Esporte       1.00      0.69      0.82        42\n",
      "Filmes e séries       0.93      0.93      0.93        30\n",
      "         Física       0.84      0.86      0.85        36\n",
      "      Geografia       0.64      0.64      0.64        11\n",
      "        Imposto       0.80      0.80      0.80         5\n",
      "          Jogos       0.89      0.77      0.83        96\n",
      "     Matemático       0.76      0.93      0.84       261\n",
      "  Meio ambiente       1.00      0.89      0.94        18\n",
      "         Outros       0.75      0.73      0.74        59\n",
      "       Pesquisa       1.00      0.89      0.94        18\n",
      "         Pessoa       0.85      0.77      0.81        22\n",
      "      População       0.96      0.96      0.96        25\n",
      "       Produção       0.33      0.71      0.45         7\n",
      "        Química       1.00      0.87      0.93        23\n",
      "             RH       0.90      0.77      0.83        35\n",
      "          Saúde       1.00      0.71      0.83        17\n",
      "      Segurança       1.00      0.90      0.95        20\n",
      "       Trânsito       0.91      0.72      0.81        43\n",
      "\n",
      "       accuracy                           0.82      1045\n",
      "      macro avg       0.87      0.80      0.82      1045\n",
      "   weighted avg       0.84      0.82      0.82      1045\n",
      "\n"
     ]
    }
   ],
   "source": [
    "print(metrics.classification_report(y,y_pred))"
   ]
  },
  {
   "cell_type": "code",
   "execution_count": 35,
   "metadata": {},
   "outputs": [
    {
     "name": "stdout",
     "output_type": "stream",
     "text": [
      "0.8210526315789474\n"
     ]
    }
   ],
   "source": [
    "print(metrics.accuracy_score(y,y_pred))"
   ]
  },
  {
   "cell_type": "code",
   "execution_count": 36,
   "metadata": {},
   "outputs": [],
   "source": [
    "from sklearn.metrics import confusion_matrix\n",
    "\n",
    "mat_etc = confusion_matrix(y, y_pred)\n",
    "row_sums = mat_etc.sum(axis=1, keepdims=True)"
   ]
  },
  {
   "cell_type": "code",
   "execution_count": 37,
   "metadata": {},
   "outputs": [],
   "source": [
    "norm_conf_mx = mat_etc / row_sums"
   ]
  },
  {
   "cell_type": "code",
   "execution_count": 38,
   "metadata": {},
   "outputs": [],
   "source": [
    "labels = ['Bancário','Comercial','Computacional','Consumo','Data e hora','Escolar','Esportes',\n",
    "         'Filmes e séries','Física','Geogragia','Imposto','Jogos','Matemático',\n",
    "          'Meio ambiente','Outros','Pesquisa','Pessoa','População','Produção',\n",
    "         'Química','RH','Saúde','Segurança','Trânsito']"
   ]
  },
  {
   "cell_type": "code",
   "execution_count": 39,
   "metadata": {},
   "outputs": [
    {
     "data": {
      "image/png": "[encoded data removed]",
      "text/plain": [
       "<Figure size 1008x1008 with 2 Axes>"
      ]
     },
     "metadata": {
      "needs_background": "light"
     },
     "output_type": "display_data"
    }
   ],
   "source": [
    "import matplotlib.pyplot as plt\n",
    "fig, ax = plt.subplots(figsize=(14,14))\n",
    "sns.heatmap(pd.DataFrame(norm_conf_mx.round(2),\n",
    "                         columns=labels, \n",
    "                         index=labels), \n",
    "            annot=True, \n",
    "            fmt='g', \n",
    "            cmap='Blues')\n",
    "plt.xlabel('predicted value')\n",
    "plt.ylabel('true value');"
   ]
  },
  {
   "cell_type": "code",
   "execution_count": null,
   "metadata": {},
   "outputs": [],
   "source": []
  }
 ],
 "metadata": {
  "kernelspec": {
   "display_name": "Python 3",
   "language": "python",
   "name": "python3"
  },
  "language_info": {
   "codemirror_mode": {
    "name": "ipython",
    "version": 3
   },
   "file_extension": ".py",
   "mimetype": "text/x-python",
   "name": "python",
   "nbconvert_exporter": "python",
   "pygments_lexer": "ipython3",
   "version": "3.7.5"
  }
 },
 "nbformat": 4,
 "nbformat_minor": 2
}
